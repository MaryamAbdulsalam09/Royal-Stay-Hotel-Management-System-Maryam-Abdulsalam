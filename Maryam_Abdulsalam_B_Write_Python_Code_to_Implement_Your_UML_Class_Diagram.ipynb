{
  "nbformat": 4,
  "nbformat_minor": 0,
  "metadata": {
    "colab": {
      "provenance": []
    },
    "kernelspec": {
      "name": "python3",
      "display_name": "Python 3"
    },
    "language_info": {
      "name": "python"
    }
  },
  "cells": [
    {
      "cell_type": "markdown",
      "source": [
        "# B. Write Python Code to Implement Your UML Class Diagram"
      ],
      "metadata": {
        "id": "bJkWmampcQbG"
      }
    },
    {
      "cell_type": "code",
      "execution_count": 104,
      "metadata": {
        "id": "5JunVWF84da-"
      },
      "outputs": [],
      "source": [
        "from datetime import date #Import the date class from the datetime module.\n",
        "\n",
        "class Room:\n",
        "    \"\"\"Represents a hotel room with attributes like room number, type, amenities, and price.\"\"\"\n",
        "    def __init__(self, room_number, room_type, amenities, price_per_night):\n",
        "        self.__room_number = room_number\n",
        "        self.__room_type = room_type\n",
        "        self.__amenities = amenities\n",
        "        self.__price_per_night = price_per_night\n",
        "        self.__availability = True  # Default: available\n",
        "\n",
        "    def check_availability(self):\n",
        "        return self.__availability #Returns True if the room is available, otherwise False.\n",
        "\n",
        "\n",
        "    def reserve_room(self):\n",
        "        if self.__availability:\n",
        "            self.__availability = False\n",
        "            return True\n",
        "        return False\n",
        "\n",
        "    def get_price(self):\n",
        "        return self.__price_per_night\n",
        "\n",
        "    def __str__(self):\n",
        "        return f\"Room {self.__room_number} ({self.__room_type}) - ${self.__price_per_night}/night\""
      ]
    },
    {
      "cell_type": "code",
      "source": [
        "class Guest:\n",
        "    \"\"\"Represents a hotel guest with a unique ID, name, and contact details.\"\"\"\n",
        "    def __init__(self, guest_id, name, contact_info):\n",
        "        self.__guest_id = guest_id\n",
        "        self.__name = name\n",
        "        self.__contact_info = contact_info\n",
        "        self.__bookings = []\n",
        "        self.__loyalty_program = LoyaltyProgram(guest_id)\n",
        "\n",
        "    def book_room(self, room, check_in_date, check_out_date):\n",
        "        if room.reserve_room():\n",
        "            booking = Booking(len(self.__bookings) + 1, self, room, check_in_date, check_out_date)\n",
        "            self.__bookings.append(booking)\n",
        "            self.__loyalty_program.earn_points(booking.calculate_price() // 10)  # Earn 10% of booking cost as points\n",
        "            return booking\n",
        "        return None\n",
        "\n",
        "    def request_service(self, service_type):\n",
        "        return ServiceRequest(len(self.__bookings) + 1, self, service_type, \"Pending\")\n",
        "\n",
        "    def submit_feedback(self, rating, comments):\n",
        "        return Feedback(len(self.__bookings) + 1, self, rating, comments)\n",
        "\n",
        "    def __str__(self):\n",
        "        return f\"Guest {self.__name}, Contact: {self.__contact_info}\""
      ],
      "metadata": {
        "id": "NFAg0A8H41Wz"
      },
      "execution_count": 105,
      "outputs": []
    },
    {
      "cell_type": "code",
      "source": [
        "from datetime import date\n",
        "\n",
        "class Booking:\n",
        "    \"\"\"Handles room reservations, including check-in and check-out details.\"\"\"\n",
        "    def __init__(self, booking_id, guest, room, check_in_date, check_out_date):\n",
        "        self.__booking_id = booking_id\n",
        "        self.__guest = guest\n",
        "        self.__room = room\n",
        "        self.__check_in_date = check_in_date\n",
        "        self.__check_out_date = check_out_date\n",
        "        self.__total_price = self.calculate_price()\n",
        "\n",
        "    def calculate_price(self):\n",
        "        num_nights = (self.__check_out_date - self.__check_in_date).days\n",
        "        #Calculates the total booking price based on the room's nightly rate and duration of stay.\n",
        "        return num_nights * self.__room.get_price()\n",
        "\n",
        "    def confirm_booking(self):\n",
        "        print(f\"Booking {self.__booking_id} confirmed for {self.__guest}\")\n",
        "\n",
        "    def cancel_booking(self):\n",
        "        print(f\"Booking {self.__booking_id} cancelled.\")\n",
        "\n",
        "    def __str__(self):\n",
        "        return f\"Booking {self.__booking_id}: {self.__guest} -> {self.__room} from {self.__check_in_date} to {self.__check_out_date}\""
      ],
      "metadata": {
        "id": "VjmYFRj644mm"
      },
      "execution_count": 106,
      "outputs": []
    },
    {
      "cell_type": "code",
      "source": [
        "class Payment:\n",
        "    \"\"\"Handles payments for bookings, supporting different methods.\"\"\"\n",
        "    def __init__(self, payment_id, booking, amount, payment_method):\n",
        "        self.__payment_id = payment_id\n",
        "        self.__booking = booking\n",
        "        self.__amount = amount\n",
        "        self.__payment_method = payment_method\n",
        "        self.__payment_status = \"Pending\"\n",
        "\n",
        "    def process_payment(self):\n",
        "        self.__payment_status = \"Completed\" #Marks the payment as completed when successfully processed.\n",
        "        print(f\"Payment {self.__payment_id} of ${self.__amount} completed using {self.__payment_method}.\")\n",
        "\n",
        "    def __str__(self):\n",
        "        return f\"Payment {self.__payment_id}: ${self.__amount} - {self.__payment_status}\""
      ],
      "metadata": {
        "id": "fTF0Fwkl48OK"
      },
      "execution_count": 107,
      "outputs": []
    },
    {
      "cell_type": "code",
      "source": [
        "class LoyaltyProgram:\n",
        "    \"\"\"Manages loyalty points for guests.\"\"\"\n",
        "    def __init__(self, guest_id):\n",
        "        self.__guest_id = guest_id\n",
        "        self.__points = 0\n",
        "\n",
        "    def earn_points(self, amount):\n",
        "        self.__points += amount\n",
        "\n",
        "    def redeem_points(self, amount):\n",
        "        if self.__points >= amount:\n",
        "            self.__points -= amount\n",
        "            return True\n",
        "        return False\n",
        "\n",
        "    def __str__(self):\n",
        "        return f\"Guest {self.__guest_id} has {self.__points} loyalty points.\""
      ],
      "metadata": {
        "id": "hfbeFS_z5Akt"
      },
      "execution_count": 108,
      "outputs": []
    },
    {
      "cell_type": "code",
      "source": [
        "class ServiceRequest:\n",
        "    \"\"\"Handles guest service requests like room service or housekeeping.\"\"\"\n",
        "    def __init__(self, request_id, guest, service_type, status=\"Pending\"):\n",
        "        self.__request_id = request_id\n",
        "        self.__guest = guest\n",
        "        self.__service_type = service_type\n",
        "        self.__status = status\n",
        "\n",
        "    def complete_request(self):\n",
        "        self.__status = \"Completed\"\n",
        "\n",
        "    def __str__(self):\n",
        "        return f\"Service Request {self.__request_id}: {self.__service_type} - {self.__status}\""
      ],
      "metadata": {
        "id": "JL0FFYdK5Dqy"
      },
      "execution_count": 109,
      "outputs": []
    },
    {
      "cell_type": "code",
      "source": [
        "class Feedback:\n",
        "    \"\"\"Handles guest reviews and ratings.\"\"\"\n",
        "    def __init__(self, feedback_id, guest, rating, comments):\n",
        "        self.__feedback_id = feedback_id\n",
        "        self.__guest = guest\n",
        "        self.__rating = rating\n",
        "        self.__comments = comments\n",
        "\n",
        "    def __str__(self):\n",
        "        return f\"Feedback {self.__feedback_id} from {self.__guest}: {self.__rating} stars - {self.__comments}\""
      ],
      "metadata": {
        "id": "6Je8EqhF5G1u"
      },
      "execution_count": 110,
      "outputs": []
    },
    {
      "cell_type": "code",
      "source": [
        "if __name__ == \"__main__\":\n",
        "    guest1 = Guest(1, \"Maryam Abdulsalam\", \"maryamabdulsalam@gmail.com\")\n",
        "    room1 = Room(101, \"Suite\", [\"WiFi\", \"TV\", \"Minibar\"], 250)\n",
        "\n",
        "    booking1 = guest1.book_room(room1, date(2025, 4, 1), date(2025, 4, 5))\n",
        "\n",
        "    if booking1:\n",
        "        booking1.confirm_booking()\n",
        "        payment1 = Payment(1, booking1, booking1.calculate_price(), \"Credit Card\")\n",
        "        payment1.process_payment()\n",
        "\n",
        "    # Testing Loyalty Program\n",
        "    print(guest1._Guest__loyalty_program)  # Accessing private attribute\n",
        "\n",
        "    # Testing Service Request\n",
        "    service1 = guest1.request_service(\"Room Cleaning\")\n",
        "    print(service1)\n",
        "\n",
        "    # Testing Feedback\n",
        "    feedback1 = guest1.submit_feedback(5, \"Excellent stay!\")\n",
        "    print(feedback1)"
      ],
      "metadata": {
        "colab": {
          "base_uri": "https://localhost:8080/"
        },
        "id": "E8T6r8n05JRT",
        "outputId": "b000b971-81bb-41cc-ef14-36f969675610"
      },
      "execution_count": 111,
      "outputs": [
        {
          "output_type": "stream",
          "name": "stdout",
          "text": [
            "Booking 1 confirmed for Guest Maryam Abdulsalam, Contact: maryamabdulsalam@gmail.com\n",
            "Payment 1 of $1000 completed using Credit Card.\n",
            "Guest 1 has 100 loyalty points.\n",
            "Service Request 2: Room Cleaning - Pending\n",
            "Feedback 2 from Guest Maryam Abdulsalam, Contact: maryamabdulsalam@gmail.com: 5 stars - Excellent stay!\n"
          ]
        }
      ]
    },
    {
      "cell_type": "markdown",
      "source": [
        "# C. Define Test Cases\n",
        "\n"
      ],
      "metadata": {
        "id": "eZjsaZamcXhM"
      }
    },
    {
      "cell_type": "markdown",
      "source": [
        "**1) Guest Account Creation:**\n",
        "\n"
      ],
      "metadata": {
        "id": "UQ4qnvWwMACE"
      }
    },
    {
      "cell_type": "code",
      "source": [
        "def test_guest_creation():\n",
        "  # Create guest accounts with personal details\n",
        "  guest1 = Guest(1, \"Maryam Abdulsalam\", \"maryamabdulsalam@gmail.com\")\n",
        "  guest2 = Guest(2, \"Bilal Abdulsalam\", \"bilalabdulsalam@gmail.com\") # This line was incorrectly indented before\n",
        "\n",
        "  # Verify that the details are correctly stored\n",
        "  assert guest1._Guest__name == \"Maryam Abdulsalam\"\n",
        "  assert guest1._Guest__contact_info == \"maryamabdulsalam@gmail.com\"\n",
        "  assert guest1._Guest__guest_id == 1\n",
        "\n",
        "  assert guest2._Guest__name == \"Bilal Abdulsalam\"\n",
        "  assert guest2._Guest__contact_info == \"bilalabdulsalam@gmail.com\"\n",
        "  assert guest2._Guest__guest_id == 2\n",
        "\n",
        "  # Displaying the information\n",
        "  print(guest1)\n",
        "  print(guest2)\n",
        "\n",
        "  print(\"✅ Guest account creation test passed!\")\n",
        "\n",
        "# Call the test function\n",
        "test_guest_creation()"
      ],
      "metadata": {
        "colab": {
          "base_uri": "https://localhost:8080/"
        },
        "id": "_4ezXKY2cc82",
        "outputId": "27490912-27e8-43d1-e1a5-757c6f87d4d8"
      },
      "execution_count": 112,
      "outputs": [
        {
          "output_type": "stream",
          "name": "stdout",
          "text": [
            "Guest Maryam Abdulsalam, Contact: maryamabdulsalam@gmail.com\n",
            "Guest Bilal Abdulsalam, Contact: bilalabdulsalam@gmail.com\n",
            "✅ Guest account creation test passed!\n"
          ]
        }
      ]
    },
    {
      "cell_type": "markdown",
      "source": [
        "**2) Searching for Available Rooms:**"
      ],
      "metadata": {
        "id": "H_Qtax3tMEWc"
      }
    },
    {
      "cell_type": "code",
      "source": [
        "def test_search_rooms():\n",
        "    room1 = Room(101, \"Suite\", [\"WiFi\", \"TV\"], 250)\n",
        "    room2 = Room(102, \"Deluxe\", [\"WiFi\", \"Minibar\"], 200)\n",
        "\n",
        "    assert room1.check_availability() is True\n",
        "    assert room2.check_availability() is True\n",
        "\n",
        "    room1.reserve_room()\n",
        "    assert room1.check_availability() is False  # Should be unavailable after reservation\n",
        "\n",
        "    print(\"✅ Room availability search test passed!\")\n",
        "\n",
        "test_search_rooms()"
      ],
      "metadata": {
        "colab": {
          "base_uri": "https://localhost:8080/"
        },
        "id": "Bkoob9xgcfHM",
        "outputId": "20362f89-21c9-4340-856a-97fcc37a9eef"
      },
      "execution_count": 113,
      "outputs": [
        {
          "output_type": "stream",
          "name": "stdout",
          "text": [
            "✅ Room availability search test passed!\n"
          ]
        }
      ]
    },
    {
      "cell_type": "markdown",
      "source": [
        "**3) Making a Room Reservation:**"
      ],
      "metadata": {
        "id": "UYBP6EOqhOYn"
      }
    },
    {
      "cell_type": "code",
      "source": [
        "from datetime import date\n",
        "\n",
        "def test_make_reservation():\n",
        "    guest = Guest(1, \"Maryam Abdulsalam\", \"maryamabdulsalam@gmail.com\")\n",
        "    room = Room(101, \"Suite\", [\"WiFi\", \"TV\"], 250)\n",
        "\n",
        "    booking = guest.book_room(room, date(2025, 4, 1), date(2025, 4, 5))\n",
        "\n",
        "    assert booking is not None  # Booking should be successful\n",
        "    assert room.check_availability() is False  # Room should be marked as reserved\n",
        "\n",
        "    print(\"✅ Room reservation test passed!\")\n",
        "\n",
        "test_make_reservation()"
      ],
      "metadata": {
        "colab": {
          "base_uri": "https://localhost:8080/"
        },
        "id": "cvH6MricceWL",
        "outputId": "d41b7397-cc77-4ea8-abdd-de1fc8398134"
      },
      "execution_count": 114,
      "outputs": [
        {
          "output_type": "stream",
          "name": "stdout",
          "text": [
            "✅ Room reservation test passed!\n"
          ]
        }
      ]
    },
    {
      "cell_type": "markdown",
      "source": [
        "**4) Booking Confirmation Notification:**"
      ],
      "metadata": {
        "id": "j3GIpsvzhb1C"
      }
    },
    {
      "cell_type": "code",
      "source": [
        "def test_booking_confirmation():\n",
        "    guest = Guest(1, \"Bilal Abdulsalam\", \"bilalabdulsalam@gmail.com\")\n",
        "    room = Room(102, \"Deluxe\", [\"WiFi\", \"Minibar\"], 200)\n",
        "    booking = guest.book_room(room, date(2025, 4, 2), date(2025, 4, 6))\n",
        "\n",
        "    assert booking is not None\n",
        "    booking.confirm_booking()  # Should print confirmation message\n",
        "\n",
        "    print(\"✅ Booking confirmation test passed!\")\n",
        "\n",
        "test_booking_confirmation()"
      ],
      "metadata": {
        "colab": {
          "base_uri": "https://localhost:8080/"
        },
        "id": "5QJpdvrMcd_w",
        "outputId": "b72fbd9a-5db3-4d7b-87ea-deb75bc3a0ca"
      },
      "execution_count": 115,
      "outputs": [
        {
          "output_type": "stream",
          "name": "stdout",
          "text": [
            "Booking 1 confirmed for Guest Bilal Abdulsalam, Contact: bilalabdulsalam@gmail.com\n",
            "✅ Booking confirmation test passed!\n"
          ]
        }
      ]
    },
    {
      "cell_type": "markdown",
      "source": [
        "**5) Invoice Generation for a Booking:**"
      ],
      "metadata": {
        "id": "fPo1iieVlNiH"
      }
    },
    {
      "cell_type": "code",
      "source": [
        "def test_invoice_generation():\n",
        "    guest = Guest(1, \"Maryam Abdulsalam\", \"maryamabdulsalam@gmail.com\")\n",
        "    room = Room(101, \"Suite\", [\"WiFi\", \"TV\"], 250)\n",
        "    booking = guest.book_room(room, date(2025, 4, 1), date(2025, 4, 5))\n",
        "\n",
        "    payment = Payment(1, booking, booking.calculate_price(), \"Credit Card\")\n",
        "    assert payment._Payment__amount == 1000  # 4 nights x $250 = $1000\n",
        "\n",
        "    print(\"✅ Invoice generation test passed!\")\n",
        "\n",
        "test_invoice_generation()"
      ],
      "metadata": {
        "colab": {
          "base_uri": "https://localhost:8080/"
        },
        "id": "xoLFd-A0lNEf",
        "outputId": "10839c7a-c315-4470-e1be-e2ac5d0af853"
      },
      "execution_count": 116,
      "outputs": [
        {
          "output_type": "stream",
          "name": "stdout",
          "text": [
            "✅ Invoice generation test passed!\n"
          ]
        }
      ]
    },
    {
      "cell_type": "markdown",
      "source": [
        "**6) Processing Different Payment Methods:**"
      ],
      "metadata": {
        "id": "QlRC1NS1lryr"
      }
    },
    {
      "cell_type": "code",
      "source": [
        "def test_payment_processing():\n",
        "    guest = Guest(1, \"Bilal Abdulsalam\", \"bilalabdulsalam@gmail.com\")\n",
        "    room = Room(103, \"Standard\", [\"WiFi\"], 150)\n",
        "    booking = guest.book_room(room, date(2025, 4, 3), date(2025, 4, 7))\n",
        "\n",
        "    payment1 = Payment(1, booking, booking.calculate_price(), \"Credit Card\")\n",
        "    payment2 = Payment(2, booking, booking.calculate_price(), \"Mobile Wallet\")\n",
        "\n",
        "    payment1.process_payment()\n",
        "    payment2.process_payment()\n",
        "\n",
        "    assert payment1._Payment__payment_status == \"Completed\"\n",
        "    assert payment2._Payment__payment_status == \"Completed\"\n",
        "\n",
        "    print(\"✅ Payment processing test passed!\")\n",
        "\n",
        "test_payment_processing()"
      ],
      "metadata": {
        "colab": {
          "base_uri": "https://localhost:8080/"
        },
        "id": "Frt-YkAGcd2n",
        "outputId": "9fd3c0d7-a9f2-4497-f8bc-59e2e8a3b802"
      },
      "execution_count": 117,
      "outputs": [
        {
          "output_type": "stream",
          "name": "stdout",
          "text": [
            "Payment 1 of $600 completed using Credit Card.\n",
            "Payment 2 of $600 completed using Mobile Wallet.\n",
            "✅ Payment processing test passed!\n"
          ]
        }
      ]
    },
    {
      "cell_type": "markdown",
      "source": [
        "**7) Displaying Reservation History:**"
      ],
      "metadata": {
        "id": "ywNLNkmllzkk"
      }
    },
    {
      "cell_type": "code",
      "source": [
        "def test_reservation_history():\n",
        "    guest = Guest(1, \"Maryam Abdulsalam\", \"maryamabdulsalam@gmail.com\")\n",
        "    room1 = Room(101, \"Suite\", [\"WiFi\", \"TV\"], 250)\n",
        "    room2 = Room(102, \"Deluxe\", [\"WiFi\", \"Minibar\"], 200)\n",
        "\n",
        "    booking1 = guest.book_room(room1, date(2025, 4, 1), date(2025, 4, 5))\n",
        "    booking2 = guest.book_room(room2, date(2025, 5, 1), date(2025, 5, 5))\n",
        "\n",
        "    assert len(guest._Guest__bookings) == 2  # Should have two bookings\n",
        "\n",
        "    print(\"✅ Reservation history test passed!\")\n",
        "\n",
        "test_reservation_history()"
      ],
      "metadata": {
        "colab": {
          "base_uri": "https://localhost:8080/"
        },
        "id": "u6nTr3jmcds8",
        "outputId": "548f2548-c2e9-4d45-b5ee-2d7aca9a93be"
      },
      "execution_count": 118,
      "outputs": [
        {
          "output_type": "stream",
          "name": "stdout",
          "text": [
            "✅ Reservation history test passed!\n"
          ]
        }
      ]
    },
    {
      "cell_type": "markdown",
      "source": [
        "**8) Cancellation of a Reservation:**"
      ],
      "metadata": {
        "id": "14LQ42ILmkPp"
      }
    },
    {
      "cell_type": "code",
      "source": [
        "def test_cancellation():\n",
        "    guest = Guest(1, \"Bilal Abdulsalam\", \"bilalabdulsalam@gmail.com\")\n",
        "    room = Room(104, \"Standard\", [\"WiFi\"], 150)\n",
        "    booking = guest.book_room(room, date(2025, 4, 3), date(2025, 4, 7))\n",
        "\n",
        "    assert room.check_availability() is False  # Should be reserved\n",
        "    booking.cancel_booking()\n",
        "    room._Room__availability = True  # Simulate cancellation\n",
        "\n",
        "    assert room.check_availability() is True  # Should be available again\n",
        "\n",
        "    print(\"✅ Cancellation test passed!\")\n",
        "\n",
        "test_cancellation()"
      ],
      "metadata": {
        "colab": {
          "base_uri": "https://localhost:8080/"
        },
        "id": "Sd4NbrtGcn1e",
        "outputId": "2f9d3379-d164-4a62-c16c-ae3421260d23"
      },
      "execution_count": 119,
      "outputs": [
        {
          "output_type": "stream",
          "name": "stdout",
          "text": [
            "Booking 1 cancelled.\n",
            "✅ Cancellation test passed!\n"
          ]
        }
      ]
    }
  ]
}