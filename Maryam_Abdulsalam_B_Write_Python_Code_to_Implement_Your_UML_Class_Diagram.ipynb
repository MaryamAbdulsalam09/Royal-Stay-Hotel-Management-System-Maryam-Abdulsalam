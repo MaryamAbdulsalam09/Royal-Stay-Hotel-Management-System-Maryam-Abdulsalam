{
  "nbformat": 4,
  "nbformat_minor": 0,
  "metadata": {
    "colab": {
      "provenance": []
    },
    "kernelspec": {
      "name": "python3",
      "display_name": "Python 3"
    },
    "language_info": {
      "name": "python"
    }
  },
  "cells": [
    {
      "cell_type": "code",
      "execution_count": 2,
      "metadata": {
        "id": "5JunVWF84da-"
      },
      "outputs": [],
      "source": [
        "class Room:\n",
        "    \"\"\"Represents a hotel room with attributes like room number, type, amenities, and price.\"\"\"\n",
        "    def __init__(self, room_number, room_type, amenities, price_per_night):\n",
        "        self.__room_number = room_number\n",
        "        self.__room_type = room_type\n",
        "        self.__amenities = amenities\n",
        "        self.__price_per_night = price_per_night\n",
        "        self.__availability = True  # Default: available\n",
        "\n",
        "    def check_availability(self):\n",
        "        return self.__availability #Returns True if the room is available, otherwise False.\n",
        "\n",
        "\n",
        "    def reserve_room(self):\n",
        "        if self.__availability:\n",
        "            self.__availability = False\n",
        "            return True\n",
        "        return False\n",
        "\n",
        "    def get_price(self):\n",
        "        return self.__price_per_night\n",
        "\n",
        "    def __str__(self):\n",
        "        return f\"Room {self.__room_number} ({self.__room_type}) - ${self.__price_per_night}/night\""
      ]
    },
    {
      "cell_type": "code",
      "source": [
        "class Guest:\n",
        "    \"\"\"Represents a hotel guest with a unique ID, name, and contact details.\"\"\"\n",
        "    def __init__(self, guest_id, name, contact_info):\n",
        "        self.__guest_id = guest_id\n",
        "        self.__name = name\n",
        "        self.__contact_info = contact_info\n",
        "        self.__bookings = []\n",
        "        self.__loyalty_program = LoyaltyProgram(guest_id)\n",
        "\n",
        "    def book_room(self, room, check_in_date, check_out_date):\n",
        "        if room.reserve_room():\n",
        "            booking = Booking(len(self.__bookings) + 1, self, room, check_in_date, check_out_date)\n",
        "            self.__bookings.append(booking)\n",
        "            self.__loyalty_program.earn_points(booking.calculate_price() // 10)  # Earn 10% of booking cost as points\n",
        "            return booking\n",
        "        return None\n",
        "\n",
        "    def request_service(self, service_type):\n",
        "        return ServiceRequest(len(self.__bookings) + 1, self, service_type, \"Pending\")\n",
        "\n",
        "    def submit_feedback(self, rating, comments):\n",
        "        return Feedback(len(self.__bookings) + 1, self, rating, comments)\n",
        "\n",
        "    def __str__(self):\n",
        "        return f\"Guest {self.__name}, Contact: {self.__contact_info}\""
      ],
      "metadata": {
        "id": "NFAg0A8H41Wz"
      },
      "execution_count": 2,
      "outputs": []
    },
    {
      "cell_type": "code",
      "source": [
        "from datetime import date\n",
        "\n",
        "class Booking:\n",
        "    \"\"\"Handles room reservations, including check-in and check-out details.\"\"\"\n",
        "    def __init__(self, booking_id, guest, room, check_in_date, check_out_date):\n",
        "        self.__booking_id = booking_id\n",
        "        self.__guest = guest\n",
        "        self.__room = room\n",
        "        self.__check_in_date = check_in_date\n",
        "        self.__check_out_date = check_out_date\n",
        "        self.__total_price = self.calculate_price()\n",
        "\n",
        "    def calculate_price(self):\n",
        "        num_nights = (self.__check_out_date - self.__check_in_date).days #Calculates the total booking price based on the room's nightly rate and duration of stay.\n",
        "        return num_nights * self.__room.get_price()\n",
        "\n",
        "    def confirm_booking(self):\n",
        "        print(f\"Booking {self.__booking_id} confirmed for {self.__guest}\")\n",
        "\n",
        "    def cancel_booking(self):\n",
        "        print(f\"Booking {self.__booking_id} cancelled.\")\n",
        "\n",
        "    def __str__(self):\n",
        "        return f\"Booking {self.__booking_id}: {self.__guest} -> {self.__room} from {self.__check_in_date} to {self.__check_out_date}\""
      ],
      "metadata": {
        "id": "VjmYFRj644mm"
      },
      "execution_count": 3,
      "outputs": []
    },
    {
      "cell_type": "code",
      "source": [
        "class Payment:\n",
        "    \"\"\"Handles payments for bookings, supporting different methods.\"\"\"\n",
        "    def __init__(self, payment_id, booking, amount, payment_method):\n",
        "        self.__payment_id = payment_id\n",
        "        self.__booking = booking\n",
        "        self.__amount = amount\n",
        "        self.__payment_method = payment_method\n",
        "        self.__payment_status = \"Pending\"\n",
        "\n",
        "    def process_payment(self):\n",
        "        self.__payment_status = \"Completed\" #Marks the payment as completed when successfully processed.\n",
        "        print(f\"Payment {self.__payment_id} of ${self.__amount} completed using {self.__payment_method}.\")\n",
        "\n",
        "    def __str__(self):\n",
        "        return f\"Payment {self.__payment_id}: ${self.__amount} - {self.__payment_status}\""
      ],
      "metadata": {
        "id": "fTF0Fwkl48OK"
      },
      "execution_count": 4,
      "outputs": []
    },
    {
      "cell_type": "code",
      "source": [
        "class LoyaltyProgram:\n",
        "    \"\"\"Manages loyalty points for guests.\"\"\"\n",
        "    def __init__(self, guest_id):\n",
        "        self.__guest_id = guest_id\n",
        "        self.__points = 0\n",
        "\n",
        "    def earn_points(self, amount):\n",
        "        self.__points += amount\n",
        "\n",
        "    def redeem_points(self, amount):\n",
        "        if self.__points >= amount:\n",
        "            self.__points -= amount\n",
        "            return True\n",
        "        return False\n",
        "\n",
        "    def __str__(self):\n",
        "        return f\"Guest {self.__guest_id} has {self.__points} loyalty points.\""
      ],
      "metadata": {
        "id": "hfbeFS_z5Akt"
      },
      "execution_count": 5,
      "outputs": []
    },
    {
      "cell_type": "code",
      "source": [
        "class ServiceRequest:\n",
        "    \"\"\"Handles guest service requests like room service or housekeeping.\"\"\"\n",
        "    def __init__(self, request_id, guest, service_type, status=\"Pending\"):\n",
        "        self.__request_id = request_id\n",
        "        self.__guest = guest\n",
        "        self.__service_type = service_type\n",
        "        self.__status = status\n",
        "\n",
        "    def complete_request(self):\n",
        "        self.__status = \"Completed\"\n",
        "\n",
        "    def __str__(self):\n",
        "        return f\"Service Request {self.__request_id}: {self.__service_type} - {self.__status}\""
      ],
      "metadata": {
        "id": "JL0FFYdK5Dqy"
      },
      "execution_count": 6,
      "outputs": []
    },
    {
      "cell_type": "code",
      "source": [
        "class Feedback:\n",
        "    \"\"\"Handles guest reviews and ratings.\"\"\"\n",
        "    def __init__(self, feedback_id, guest, rating, comments):\n",
        "        self.__feedback_id = feedback_id\n",
        "        self.__guest = guest\n",
        "        self.__rating = rating\n",
        "        self.__comments = comments\n",
        "\n",
        "    def __str__(self):\n",
        "        return f\"Feedback {self.__feedback_id} from {self.__guest}: {self.__rating} stars - {self.__comments}\""
      ],
      "metadata": {
        "id": "6Je8EqhF5G1u"
      },
      "execution_count": 7,
      "outputs": []
    },
    {
      "cell_type": "code",
      "source": [
        "if __name__ == \"__main__\":\n",
        "    guest1 = Guest(1, \"Maryam Abdulsalam\", \"maryamabdulsalam@gmail.com\")\n",
        "    room1 = Room(101, \"Suite\", [\"WiFi\", \"TV\", \"Minibar\"], 250)\n",
        "\n",
        "    booking1 = guest1.book_room(room1, date(2025, 4, 1), date(2025, 4, 5))\n",
        "\n",
        "    if booking1:\n",
        "        booking1.confirm_booking()\n",
        "        payment1 = Payment(1, booking1, booking1.calculate_price(), \"Credit Card\")\n",
        "        payment1.process_payment()\n",
        "\n",
        "    # Testing Loyalty Program\n",
        "    print(guest1._Guest__loyalty_program)  # Accessing private attribute\n",
        "\n",
        "    # Testing Service Request\n",
        "    service1 = guest1.request_service(\"Room Cleaning\")\n",
        "    print(service1)\n",
        "\n",
        "    # Testing Feedback\n",
        "    feedback1 = guest1.submit_feedback(5, \"Excellent stay!\")\n",
        "    print(feedback1)"
      ],
      "metadata": {
        "colab": {
          "base_uri": "https://localhost:8080/"
        },
        "id": "E8T6r8n05JRT",
        "outputId": "77e4b613-b662-4362-fa9a-d5ed69c0398f"
      },
      "execution_count": 8,
      "outputs": [
        {
          "output_type": "stream",
          "name": "stdout",
          "text": [
            "Booking 1 confirmed for Guest Maryam Abdulsalam, Contact: maryamabdulsalam@gmail.com\n",
            "Payment 1 of $1000 completed using Credit Card.\n",
            "Guest 1 has 100 loyalty points.\n",
            "Service Request 2: Room Cleaning - Pending\n",
            "Feedback 2 from Guest Maryam Abdulsalam, Contact: maryamabdulsalam@gmail.com: 5 stars - Excellent stay!\n"
          ]
        }
      ]
    }
  ]
}